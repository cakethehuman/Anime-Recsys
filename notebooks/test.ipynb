{
 "cells": [
  {
   "cell_type": "code",
   "execution_count": 11,
   "id": "2e8b3560",
   "metadata": {},
   "outputs": [],
   "source": [
    "import pandas as pd\n",
    "import numpy as np\n",
    "import nltk\n",
    "from nltk.stem import WordNetLemmatizer\n",
    "from nltk.corpus import wordnet\n",
    "from nltk.tokenize import word_tokenize\n",
    "import pickle"
   ]
  },
  {
   "cell_type": "code",
   "execution_count": 12,
   "id": "7c1eea88",
   "metadata": {},
   "outputs": [],
   "source": [
    "df = pd.read_csv(r\"C:\\Users\\wilsen\\OneDrive\\Desktop\\anime\\10k_anime_data.csv\")"
   ]
  },
  {
   "cell_type": "code",
   "execution_count": 13,
   "id": "72b5717e",
   "metadata": {},
   "outputs": [],
   "source": [
    "with open(\"similarities.pkl\", \"rb\") as f:\n",
    "    similarities = pickle.load(f)"
   ]
  },
  {
   "cell_type": "code",
   "execution_count": 14,
   "id": "0ac21510",
   "metadata": {},
   "outputs": [],
   "source": [
    "def get_recommendations(title, n):\n",
    "    title_idx = df[df['title'] == title].index[0]\n",
    "\n",
    "    sim_scores = list(enumerate(similarities[title_idx]))\n",
    "    sim_scores = sorted(sim_scores, key=lambda x: x[1], reverse=True)\n",
    "    sim_scores = sim_scores[1:n+1]\n",
    "\n",
    "    target_idx = [i[0] for i in sim_scores]\n",
    "\n",
    "    results = {\n",
    "        \"Anime Title\": df['title'].iloc[target_idx],\n",
    "        \"similarity\": sim_scores,\n",
    "        \"genres\": df[\"genres\"].iloc[target_idx],\n",
    "        \"themes\": df[\"themes\"].iloc[target_idx],\n",
    "        \"demographics\": df[\"demographics\"].iloc[target_idx]\n",
    "    }\n",
    "\n",
    "    top_recommendations = pd.DataFrame(results)\n",
    "    top_recommendations[[\"anime_id\", \"sim_score\"]] = pd.DataFrame(\n",
    "        top_recommendations[\"similarity\"].tolist(), index=top_recommendations.index\n",
    "    )\n",
    "    return top_recommendations\n"
   ]
  },
  {
   "cell_type": "code",
   "execution_count": 15,
   "id": "58dc0851",
   "metadata": {},
   "outputs": [
    {
     "data": {
      "application/vnd.microsoft.datawrangler.viewer.v0+json": {
       "columns": [
        {
         "name": "index",
         "rawType": "int64",
         "type": "integer"
        },
        {
         "name": "Anime Title",
         "rawType": "object",
         "type": "string"
        },
        {
         "name": "similarity",
         "rawType": "object",
         "type": "unknown"
        },
        {
         "name": "genres",
         "rawType": "object",
         "type": "string"
        },
        {
         "name": "themes",
         "rawType": "object",
         "type": "unknown"
        },
        {
         "name": "demographics",
         "rawType": "object",
         "type": "unknown"
        },
        {
         "name": "anime_id",
         "rawType": "int64",
         "type": "integer"
        },
        {
         "name": "sim_score",
         "rawType": "float64",
         "type": "float"
        }
       ],
       "ref": "31c201b9-80cd-4f14-9312-c868c977346e",
       "rows": [
        [
         "1",
         "Cowboy Bebop: Tengoku no Tobira",
         "(1, 0.32406188350780424)",
         "Action, Sci-Fi",
         "Adult Cast, Space",
         null,
         "1",
         "0.32406188350780424"
        ],
        [
         "1508",
         "Kurogane Communication",
         "(1508, 0.12793134292744712)",
         "Action, Adventure, Drama, Sci-Fi",
         null,
         null,
         "1508",
         "0.12793134292744712"
        ],
        [
         "376",
         "Seihou Bukyou Outlaw Star",
         "(376, 0.12198415152222612)",
         "Action, Adventure, Comedy, Sci-Fi",
         "Space",
         "Seinen",
         "376",
         "0.12198415152222612"
        ],
        [
         "3444",
         "Cowboy Bebop: Yose Atsume Blues",
         "(3444, 0.11984950545341105)",
         "Sci-Fi",
         "Adult Cast, Space",
         null,
         "3444",
         "0.11984950545341105"
        ],
        [
         "405",
         "Iria: Zeiram The Animation",
         "(405, 0.11667324799655775)",
         "Action, Adventure, Sci-Fi",
         "Space",
         null,
         "405",
         "0.11667324799655775"
        ]
       ],
       "shape": {
        "columns": 7,
        "rows": 5
       }
      },
      "text/html": [
       "<div>\n",
       "<style scoped>\n",
       "    .dataframe tbody tr th:only-of-type {\n",
       "        vertical-align: middle;\n",
       "    }\n",
       "\n",
       "    .dataframe tbody tr th {\n",
       "        vertical-align: top;\n",
       "    }\n",
       "\n",
       "    .dataframe thead th {\n",
       "        text-align: right;\n",
       "    }\n",
       "</style>\n",
       "<table border=\"1\" class=\"dataframe\">\n",
       "  <thead>\n",
       "    <tr style=\"text-align: right;\">\n",
       "      <th></th>\n",
       "      <th>Anime Title</th>\n",
       "      <th>similarity</th>\n",
       "      <th>genres</th>\n",
       "      <th>themes</th>\n",
       "      <th>demographics</th>\n",
       "      <th>anime_id</th>\n",
       "      <th>sim_score</th>\n",
       "    </tr>\n",
       "  </thead>\n",
       "  <tbody>\n",
       "    <tr>\n",
       "      <th>1</th>\n",
       "      <td>Cowboy Bebop: Tengoku no Tobira</td>\n",
       "      <td>(1, 0.32406188350780424)</td>\n",
       "      <td>Action, Sci-Fi</td>\n",
       "      <td>Adult Cast, Space</td>\n",
       "      <td>NaN</td>\n",
       "      <td>1</td>\n",
       "      <td>0.324062</td>\n",
       "    </tr>\n",
       "    <tr>\n",
       "      <th>1508</th>\n",
       "      <td>Kurogane Communication</td>\n",
       "      <td>(1508, 0.12793134292744712)</td>\n",
       "      <td>Action, Adventure, Drama, Sci-Fi</td>\n",
       "      <td>NaN</td>\n",
       "      <td>NaN</td>\n",
       "      <td>1508</td>\n",
       "      <td>0.127931</td>\n",
       "    </tr>\n",
       "    <tr>\n",
       "      <th>376</th>\n",
       "      <td>Seihou Bukyou Outlaw Star</td>\n",
       "      <td>(376, 0.12198415152222612)</td>\n",
       "      <td>Action, Adventure, Comedy, Sci-Fi</td>\n",
       "      <td>Space</td>\n",
       "      <td>Seinen</td>\n",
       "      <td>376</td>\n",
       "      <td>0.121984</td>\n",
       "    </tr>\n",
       "    <tr>\n",
       "      <th>3444</th>\n",
       "      <td>Cowboy Bebop: Yose Atsume Blues</td>\n",
       "      <td>(3444, 0.11984950545341105)</td>\n",
       "      <td>Sci-Fi</td>\n",
       "      <td>Adult Cast, Space</td>\n",
       "      <td>NaN</td>\n",
       "      <td>3444</td>\n",
       "      <td>0.119850</td>\n",
       "    </tr>\n",
       "    <tr>\n",
       "      <th>405</th>\n",
       "      <td>Iria: Zeiram The Animation</td>\n",
       "      <td>(405, 0.11667324799655775)</td>\n",
       "      <td>Action, Adventure, Sci-Fi</td>\n",
       "      <td>Space</td>\n",
       "      <td>NaN</td>\n",
       "      <td>405</td>\n",
       "      <td>0.116673</td>\n",
       "    </tr>\n",
       "  </tbody>\n",
       "</table>\n",
       "</div>"
      ],
      "text/plain": [
       "                          Anime Title                   similarity  \\\n",
       "1     Cowboy Bebop: Tengoku no Tobira     (1, 0.32406188350780424)   \n",
       "1508           Kurogane Communication  (1508, 0.12793134292744712)   \n",
       "376         Seihou Bukyou Outlaw Star   (376, 0.12198415152222612)   \n",
       "3444  Cowboy Bebop: Yose Atsume Blues  (3444, 0.11984950545341105)   \n",
       "405        Iria: Zeiram The Animation   (405, 0.11667324799655775)   \n",
       "\n",
       "                                 genres             themes demographics  \\\n",
       "1                        Action, Sci-Fi  Adult Cast, Space          NaN   \n",
       "1508   Action, Adventure, Drama, Sci-Fi                NaN          NaN   \n",
       "376   Action, Adventure, Comedy, Sci-Fi              Space       Seinen   \n",
       "3444                             Sci-Fi  Adult Cast, Space          NaN   \n",
       "405           Action, Adventure, Sci-Fi              Space          NaN   \n",
       "\n",
       "      anime_id  sim_score  \n",
       "1            1   0.324062  \n",
       "1508      1508   0.127931  \n",
       "376        376   0.121984  \n",
       "3444      3444   0.119850  \n",
       "405        405   0.116673  "
      ]
     },
     "execution_count": 15,
     "metadata": {},
     "output_type": "execute_result"
    }
   ],
   "source": [
    "get_recommendations(\"Cowboy Bebop\", 5)"
   ]
  }
 ],
 "metadata": {
  "kernelspec": {
   "display_name": "Python 3",
   "language": "python",
   "name": "python3"
  },
  "language_info": {
   "codemirror_mode": {
    "name": "ipython",
    "version": 3
   },
   "file_extension": ".py",
   "mimetype": "text/x-python",
   "name": "python",
   "nbconvert_exporter": "python",
   "pygments_lexer": "ipython3",
   "version": "3.11.9"
  }
 },
 "nbformat": 4,
 "nbformat_minor": 5
}
